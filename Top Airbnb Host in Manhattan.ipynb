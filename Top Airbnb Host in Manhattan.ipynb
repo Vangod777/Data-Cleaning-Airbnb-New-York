{
 "cells": [
  {
   "cell_type": "code",
   "execution_count": 9,
   "metadata": {},
   "outputs": [],
   "source": [
    "import pandas as pd"
   ]
  },
  {
   "cell_type": "markdown",
   "metadata": {},
   "source": [
    "Manhattan area using the cleaned Airbnb NYC 2019 "
   ]
  },
  {
   "cell_type": "code",
   "execution_count": 23,
   "metadata": {},
   "outputs": [],
   "source": [
    "df_cleaned = pd.read_csv('/Users/ivan/Desktop/archive/AB_NYC_2019_Cleaned.csv')"
   ]
  },
  {
   "cell_type": "markdown",
   "metadata": {},
   "source": [
    "Filter for Manhattan"
   ]
  },
  {
   "cell_type": "code",
   "execution_count": 24,
   "metadata": {},
   "outputs": [],
   "source": [
    "df_manhattan = df_cleaned[df_cleaned['neighbourhood_group'] == 'Manhattan']\n"
   ]
  },
  {
   "cell_type": "markdown",
   "metadata": {},
   "source": [
    "Group by Host"
   ]
  },
  {
   "cell_type": "code",
   "execution_count": 25,
   "metadata": {},
   "outputs": [],
   "source": [
    "top_hosts_manhattan = df_manhattan.groupby('host_id').size().sort_values(ascending=False).head(10)\n"
   ]
  },
  {
   "cell_type": "code",
   "execution_count": 26,
   "metadata": {},
   "outputs": [],
   "source": [
    "top_hosts_details = df_cleaned.merge(top_hosts_manhattan.rename('listing_count'), left_on='host_id', right_index=True)\n"
   ]
  },
  {
   "cell_type": "markdown",
   "metadata": {},
   "source": [
    "Select Relevant Information"
   ]
  },
  {
   "cell_type": "code",
   "execution_count": 27,
   "metadata": {},
   "outputs": [],
   "source": [
    "top_hosts_details = top_hosts_details[['host_id', 'host_name', 'listing_count']].drop_duplicates()\n"
   ]
  },
  {
   "cell_type": "code",
   "execution_count": null,
   "metadata": {},
   "outputs": [],
   "source": [
    "Reset Index"
   ]
  },
  {
   "cell_type": "code",
   "execution_count": 28,
   "metadata": {},
   "outputs": [],
   "source": [
    "df = top_hosts_details.reset_index(drop=True, inplace=True)"
   ]
  },
  {
   "cell_type": "code",
   "execution_count": 33,
   "metadata": {},
   "outputs": [
    {
     "name": "stdout",
     "output_type": "stream",
     "text": [
      "     host_id          host_name  listing_count\n",
      "0    1475015               Mike             42\n",
      "1    2119276               Host             38\n",
      "2   16098958     Jeremy & Laura             60\n",
      "3   30283594               Kara             43\n",
      "4   61391963  Corporate Housing             75\n",
      "5   22541573                Ken             36\n",
      "6  120762452            Stanley             40\n",
      "7  190921808               John             46\n",
      "8  205031545         Red Awning             34\n",
      "9  219517861       Sonder (NYC)            207\n"
     ]
    }
   ],
   "source": [
    "print(top_hosts_details)"
   ]
  }
 ],
 "metadata": {
  "kernelspec": {
   "display_name": "Python 3",
   "language": "python",
   "name": "python3"
  },
  "language_info": {
   "codemirror_mode": {
    "name": "ipython",
    "version": 3
   },
   "file_extension": ".py",
   "mimetype": "text/x-python",
   "name": "python",
   "nbconvert_exporter": "python",
   "pygments_lexer": "ipython3",
   "version": "3.11.4"
  }
 },
 "nbformat": 4,
 "nbformat_minor": 2
}
